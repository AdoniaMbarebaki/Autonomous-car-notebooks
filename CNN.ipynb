{
  "nbformat": 4,
  "nbformat_minor": 0,
  "metadata": {
    "colab": {
      "name": "Welcome To Colaboratory",
      "version": "0.3.2",
      "provenance": [],
      "collapsed_sections": [],
      "toc_visible": true
    },
    "kernelspec": {
      "display_name": "Python 3",
      "name": "python3"
    }
  },
  "cells": [
    {
      "cell_type": "code",
      "metadata": {
        "id": "ML2vpy4zn8OB",
        "colab_type": "code",
        "colab": {}
      },
      "source": [
        "import numpy as np\n",
        "import keras\n",
        "from sklearn import datasets\n",
        "import matplotlib.pyplot as plt\n",
        "from keras.models import Sequential\n",
        "from keras.layers import Dense\n",
        "from keras.optimizers import Adam\n",
        "from keras.utils.np_utils import to_categorical\n",
        " \n",
        "n_pts = 500\n",
        "centers = [[-1, 1], [-1, -1], [1, -1], [1, 1], [0, 0]]\n",
        "X, y = datasets.make_blobs(n_samples=n_pts, random_state = 123, centers=centers, cluster_std=0.4)\n",
        " \n",
        "plt.scatter(X[y==0, 0], X[y==0, 1])\n",
        "plt.scatter(X[y==1, 0], X[y==1, 1])\n",
        "plt.scatter(X[y==2, 0], X[y==2, 1])\n",
        "plt.scatter(X[y==3, 0], X[y==3, 1])\n",
        "plt.scatter(X[y==4, 0], X[y==4, 1])\n",
        " \n",
        "print(y)\n",
        "y_cat = to_categorical(y, 5)\n",
        "print(y_cat)\n",
        "model = Sequential()\n",
        "model.add(Dense(5, input_shape=(2,), activation='softmax'))\n",
        "model.compile(Adam(lr=0.1), 'categorical_crossentropy', metrics=['accuracy'])\n",
        "#one hot encode output\n",
        "history = model.fit(X, y_cat, verbose=1, batch_size = 50, epochs=100)\n",
        "def plot_multiclass_decision_boundary(X, y, model):\n",
        "    x_span = np.linspace(min(X[:,0]) - 1, max(X[:,0]) + 1)\n",
        "    y_span = np.linspace(min(X[:,1]) - 1, max(X[:,1]) + 1)\n",
        "    xx, yy = np.meshgrid(x_span, y_span)\n",
        "    grid = np.c_[xx.ravel(), yy.ravel()]\n",
        "    pred_func = model.predict_classes(grid)\n",
        "    z = pred_func.reshape(xx.shape)\n",
        "    plt.contourf(xx, yy, z)\n",
        "plot_multiclass_decision_boundary(X, y_cat, model)\n",
        "plt.scatter(X[y==0, 0], X[y==0, 1])\n",
        "plt.scatter(X[y==1, 0], X[y==1, 1])\n",
        "plt.scatter(X[y==2, 0], X[y==2, 1])\n",
        "plt.scatter(X[y==3, 0], X[y==3, 1])\n",
        "plt.scatter(X[y==4, 0], X[y==4, 1])\n",
        "plot_multiclass_decision_boundary(X, y_cat, model)\n",
        "plt.scatter(X[y==0, 0], X[y==0, 1])\n",
        "plt.scatter(X[y==1, 0], X[y==1, 1])\n",
        "plt.scatter(X[y==2, 0], X[y==2, 1])\n",
        "plt.scatter(X[y==3, 0], X[y==3, 1])\n",
        "plt.scatter(X[y==4, 0], X[y==4, 1])\n",
        " \n",
        "x = -0.5\n",
        "y = -0.5\n",
        " \n",
        "point = np.array([[x, y]])\n",
        "prediction = model.predict_classes(point)\n",
        "plt.plot([x], [y], marker='o', markersize=10, color=\"yellow\")\n",
        "print(\"Prediction is: \", prediction)\n"
      ],
      "execution_count": 0,
      "outputs": []
    }
  ]
}